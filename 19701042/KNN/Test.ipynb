{
 "cells": [
  {
   "cell_type": "code",
   "execution_count": 1,
   "metadata": {
    "ExecuteTime": {
     "end_time": "2024-01-23T07:40:33.334596Z",
     "start_time": "2024-01-23T07:40:31.280751Z"
    }
   },
   "outputs": [],
   "source": [
    "import pandas as pd\n",
    "import numpy as np\n",
    "import matplotlib.pyplot as plt\n",
    "from sklearn.model_selection import train_test_split\n",
    "from KNN import KNN"
   ]
  },
  {
   "cell_type": "code",
   "execution_count": 2,
   "metadata": {
    "ExecuteTime": {
     "end_time": "2024-01-23T07:40:33.381733Z",
     "start_time": "2024-01-23T07:40:33.334596Z"
    },
    "scrolled": true
   },
   "outputs": [
    {
     "name": "stdout",
     "output_type": "stream",
     "text": [
      "   Brightness  Saturation class\n",
      "0          40          20   RED\n",
      "1          50          50  BLUE\n",
      "2          60          90  BLUE\n",
      "3          10          25   RED\n",
      "4          70          70  BLUE\n",
      "5          60          10   RED\n",
      "6          25          80  BLUE\n"
     ]
    }
   ],
   "source": [
    "# Load the Excel file\n",
    "title = ['Brightness','Saturation','class']\n",
    "df = pd.read_excel('data.xlsx', names = title)\n",
    "print(df) #dataset"
   ]
  },
  {
   "cell_type": "code",
   "execution_count": 3,
   "metadata": {
    "ExecuteTime": {
     "end_time": "2024-01-23T07:40:33.397082Z",
     "start_time": "2024-01-23T07:40:33.381733Z"
    }
   },
   "outputs": [],
   "source": [
    "#last column represents labels\n",
    "X =  df.iloc[:, :2].values  # Features\n",
    "y = df.iloc[:, -1].values    # Labels\n",
    "\n",
    "\n",
    "\n",
    "\n",
    "\n",
    "# Split the dataset into training and testing sets\n",
    "# X_train, X_test, y_train, y_test = train_test_split(X, y, test_size=0.2, random_state=1234)\n"
   ]
  },
  {
   "cell_type": "code",
   "execution_count": 4,
   "metadata": {
    "ExecuteTime": {
     "end_time": "2024-01-23T07:40:39.985215Z",
     "start_time": "2024-01-23T07:40:33.397082Z"
    }
   },
   "outputs": [
    {
     "name": "stdout",
     "output_type": "stream",
     "text": [
      "Brightness:20\n",
      "Saturation:35\n"
     ]
    }
   ],
   "source": [
    "# Take input from the user\n",
    "sepal_length = float(input(\"Brightness:\"))\n",
    "sepal_width = float(input(\"Saturation:\"))\n",
    "\n",
    "\n",
    "# Create an array with the user input\n",
    "user_input = np.array([[sepal_length, sepal_width]])\n"
   ]
  },
  {
   "cell_type": "code",
   "execution_count": 5,
   "metadata": {
    "ExecuteTime": {
     "end_time": "2024-01-23T07:40:40.016453Z",
     "start_time": "2024-01-23T07:40:39.985215Z"
    }
   },
   "outputs": [
    {
     "name": "stdout",
     "output_type": "stream",
     "text": [
      "['RED']\n"
     ]
    }
   ],
   "source": [
    "# k-NN model\n",
    "clf = KNN(k=5)\n",
    "# clf.fit(X_train, y_train)\n",
    "clf.fit(X, y)\n",
    "predictions = clf.predict(user_input)\n",
    "\n",
    "print(predictions)\n",
    "\n",
    "# Calculate accuracy\n",
    "# acc = np.sum(predictions == y_test) / len(y_test)\n",
    "# print(f'Accuracy: {acc}')\n"
   ]
  }
 ],
 "metadata": {
  "kernelspec": {
   "display_name": "Python 3",
   "language": "python",
   "name": "python3"
  },
  "language_info": {
   "codemirror_mode": {
    "name": "ipython",
    "version": 3
   },
   "file_extension": ".py",
   "mimetype": "text/x-python",
   "name": "python",
   "nbconvert_exporter": "python",
   "pygments_lexer": "ipython3",
   "version": "3.8.5"
  }
 },
 "nbformat": 4,
 "nbformat_minor": 4
}
